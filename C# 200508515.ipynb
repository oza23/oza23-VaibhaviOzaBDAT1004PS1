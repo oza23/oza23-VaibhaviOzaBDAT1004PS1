{
 "cells": [
  {
   "cell_type": "markdown",
   "id": "03887e5b",
   "metadata": {},
   "source": [
    "# Q1 \n",
    "What data type is each of the following?\n",
    "\n",
    "Question\t      Datatype\n",
    "5\t              int (integer)\n",
    "5.0\t              float\n",
    "5 > 1\t          Bool(boolean)\n",
    "'5'\t              str(string)\n",
    "(5 * 2)           int\n",
    "('5' * 2)         str\n",
    "'5' + '2'         str\n",
    "5/2               float\n",
    "5%2               int\n",
    "{5,2,1}           set\n",
    "5 == 3            Bool\n",
    "Pi(the number)    float"
   ]
  },
  {
   "cell_type": "markdown",
   "id": "36141686",
   "metadata": {},
   "source": [
    "# Q2 \n",
    "a)How many letters are there in 'Supercalifragilisticexpialidocious'?"
   ]
  },
  {
   "cell_type": "code",
   "execution_count": 2,
   "id": "f75f8da4",
   "metadata": {},
   "outputs": [
    {
     "name": "stdout",
     "output_type": "stream",
     "text": [
      "34\r\n"
     ]
    }
   ],
   "source": [
    "String var =\"Supercalifragilisticexpialidocious\";\n",
    "int count = 0;\n",
    "for(int i=0; i<var.Length;i++)\n",
    "{\n",
    "count++;\n",
    "}\n",
    "Console.WriteLine(count);"
   ]
  },
  {
   "cell_type": "markdown",
   "id": "bc9ce058",
   "metadata": {},
   "source": [
    "Q2 b)Does 'Supercalifragilisticexpialidocious' contain 'ice' as a substring?"
   ]
  },
  {
   "cell_type": "code",
   "execution_count": 6,
   "id": "1951cbf7",
   "metadata": {},
   "outputs": [
    {
     "name": "stdout",
     "output_type": "stream",
     "text": [
      "Yes, Supercalifragilisticexpialidocious contains ice. \r\n"
     ]
    }
   ],
   "source": [
    "String var =\"Supercalifragilisticexpialidocious\";\n",
    "String subvar =\"ice\";\n",
    "if(var.Contains(subvar)==true)\n",
    "Console.WriteLine(\"Yes, Supercalifragilisticexpialidocious contains ice. \");\n",
    "else\n",
    "Console.WriteLine(\"No, Supercalifragilisticexpialidocious does not contains ice.\");\n"
   ]
  },
  {
   "cell_type": "markdown",
   "id": "c6851fa9",
   "metadata": {},
   "source": [
    "Q2 c) Which of the following words is the longest?\n",
    "Link referred for comparision :https://www.tutorialspoint.com/Chash-program-to-find-the-maximum-of-three-numbers#:~:text=int%20num1%2C%20num2%2C%20num3%3B,then%20check%20num1%20with%20num3."
   ]
  },
  {
   "cell_type": "code",
   "execution_count": 48,
   "id": "2f3d5280",
   "metadata": {},
   "outputs": [
    {
     "name": "stdout",
     "output_type": "stream",
     "text": [
      "v1 length:34\n",
      "v2 length:27\n",
      "v3 length:34\n"
     ]
    }
   ],
   "source": [
    "String v1 =\"Supercalifragilisticexpialidocious\";\n",
    "String v2 =\"Honorificabilitudinitatibus\";\n",
    "String v3 = \"Bababadalgharaghtakamminarronnkonn\";\n",
    "int count1 = 0;\n",
    "int count2 = 0;\n",
    "int count3 = 0;\n",
    "for(int i=0; i<v1.Length;i++)\n",
    "{\n",
    "count1++;\n",
    "}\n",
    "Console.WriteLine(\"v1 length:\"+count1);\n",
    "for(int i=0; i<v2.Length;i++)\n",
    "{\n",
    "count2++;\n",
    "}\n",
    "Console.WriteLine(\"v2 length:\"+count2);\n",
    "for(int i=0; i<v3.Length;i++)\n",
    "{\n",
    "count3++;\n",
    "}\n",
    "Console.WriteLine(\"v3 length:\"+count3);\n",
    "           "
   ]
  },
  {
   "cell_type": "code",
   "execution_count": 49,
   "id": "48c76a70",
   "metadata": {},
   "outputs": [
    {
     "name": "stdout",
     "output_type": "stream",
     "text": [
      "Bababadalgharaghtakamminarronnkonnis the largest!\n"
     ]
    }
   ],
   "source": [
    "int v1 = 34;\n",
    "         int v2 = 27;\n",
    "         int v3 = 34;\n",
    "         if (v1 > v2) {\n",
    "            if (v1 > v3) {\n",
    "               Console.Write(\"Supercalifragilisticexpialidocious is the largest!\\n\");\n",
    "            } else {\n",
    "               Console.Write(\"Bababadalgharaghtakamminarronnkonnis the largest!\\n\");\n",
    "         }\n",
    "      }\n",
    "      else if (v2 > v3)\n",
    "         Console.Write(\"Honorificabilitudinitatibus is the largest!\\n\");\n",
    "      else\n",
    "         Console.Write(\"Bababadalgharaghtakamminarronnkonn is the largest!\\n\");"
   ]
  },
  {
   "cell_type": "markdown",
   "id": "a06b714b",
   "metadata": {},
   "source": [
    "# Q3 \n",
    "Implement function triangle Area(a,b,c) using Heron's Formula"
   ]
  },
  {
   "cell_type": "code",
   "execution_count": 57,
   "id": "3f335ded",
   "metadata": {},
   "outputs": [
    {
     "name": "stdout",
     "output_type": "stream",
     "text": [
      "triangleArea(2,2,2)=1.7320508075688772"
     ]
    }
   ],
   "source": [
    "int a = 2;\n",
    "int b = 2;\n",
    "int c = 2;\n",
    "double s = (a + b + c) /2;\n",
    "double Area = Math.Sqrt(s*(s-a)*(s-b)*(s-c));\n",
    "Console.Write(\"triangleArea(2,2,2)=\"+Area);"
   ]
  },
  {
   "cell_type": "markdown",
   "id": "0480cce1",
   "metadata": {},
   "source": [
    "# Q4 \n",
    "Write a program to separate odd and even integers in separate arrays."
   ]
  },
  {
   "cell_type": "code",
   "execution_count": 81,
   "id": "7eaa27eb",
   "metadata": {},
   "outputs": [
    {
     "name": "stdout",
     "output_type": "stream",
     "text": [
      "The Even elements are:\n",
      "42\n",
      "56\n",
      "32\n",
      "The Odd elements are:\n",
      "25\n",
      "47\n"
     ]
    }
   ],
   "source": [
    "int[] array1 = new int[] \n",
    "{25,47,42,56,32};\n",
    "         int[] array2 = new int[5];\n",
    "         int[] array3 = new int[5];\n",
    "         int i, j = 0, k = 0;\n",
    "         for (i = 0; i < 5; i++) {\n",
    "            if (array1[i] % 2 == 0) {\n",
    "               array2[j] = array1[i];\n",
    "               j++;\n",
    "            } else {\n",
    "               array3[k] = array1[i];\n",
    "               k++;\n",
    "            }\n",
    "         }\n",
    "         Console.WriteLine(\"The Even elements are:\");\n",
    "         for (i = 0; i < j; i++) {\n",
    "            Console.WriteLine(array2[i]);\n",
    "         }\n",
    "         Console.WriteLine(\"The Odd elements are:\");\n",
    "         for (i = 0; i < k; i++) {\n",
    "            Console.WriteLine(array3[i]);\n",
    "         }"
   ]
  },
  {
   "cell_type": "markdown",
   "id": "c62ac350",
   "metadata": {},
   "source": [
    "# Q5 \n",
    "a)Write a function inside(x,y,x1,y1,x2,y2) that returns True or False depending on whether the point (x,y) lies in the rectangle with lower left corner (x1,y1) and upper right corner (x2,y2)."
   ]
  },
  {
   "cell_type": "code",
   "execution_count": 88,
   "id": "bac75a8b",
   "metadata": {},
   "outputs": [
    {
     "name": "stdout",
     "output_type": "stream",
     "text": [
      "True,point lies in the rectangle"
     ]
    }
   ],
   "source": [
    "int x = 1; int y = 1; int x1 = 0; int y1 = 0; int x2 = 2; int y2 = 3;\n",
    "{if (x > x1 && x < x2 &&\n",
    "    y > y1 && y < y2)\n",
    "Console.Write(\"True,point lies in the rectangle\");\n",
    "else\n",
    "Console.Write(\"False, point does not lies in the rectangle\");\n",
    "}"
   ]
  },
  {
   "cell_type": "code",
   "execution_count": 89,
   "id": "92e0be1f",
   "metadata": {},
   "outputs": [
    {
     "name": "stdout",
     "output_type": "stream",
     "text": [
      "False, point does not lie in the rectangle"
     ]
    }
   ],
   "source": [
    "int x = -1; int y = -1; int x1 = 0; int y1 = 0; int x2 = 2; int y2 = 3;\n",
    "{if (x > x1 && x < x2 &&\n",
    "    y > y1 && y < y2)\n",
    "Console.Write(\"True,point lies in the rectangle\");\n",
    "else\n",
    "Console.Write(\"False, point does not lie in the rectangle\");\n",
    "}"
   ]
  },
  {
   "cell_type": "markdown",
   "id": "8d527a16",
   "metadata": {},
   "source": [
    "Q.5 b) #Unable to use inside"
   ]
  },
  {
   "cell_type": "code",
   "execution_count": 93,
   "id": "24192812",
   "metadata": {},
   "outputs": [
    {
     "name": "stdout",
     "output_type": "stream",
     "text": [
      "False, point does not lies in the rectangle"
     ]
    }
   ],
   "source": [
    "int x = 1; int y = 1; Double x1 = 0.3; double y1 = 0.5; double x2 = 1.1; double y2 = 0.7;\n",
    "{if (x > x1 && x < x2 &&\n",
    "    y > y1 && y < y2)\n",
    "Console.Write(\"True,point lies in the rectangle\");\n",
    "else\n",
    "Console.Write(\"False, point does not lies in the rectangle\");\n",
    "}"
   ]
  },
  {
   "cell_type": "markdown",
   "id": "fc5914bf",
   "metadata": {},
   "source": [
    "int x = 1; int y = 1; Double x1 = 0.5; double y1 = 0.2; double x2 = 1.1; double y2 = 0.7;\n",
    "{if (x > x1 && x < x2 &&\n",
    "    y > y1 && y < y2)\n",
    "Console.Write(\"True,point lies in the rectangle\");\n",
    "else\n",
    "Console.Write(\"False, point does not lies in the rectangle\");\n",
    "}"
   ]
  }
 ],
 "metadata": {
  "kernelspec": {
   "display_name": ".NET (C#)",
   "language": "C#",
   "name": ".net-csharp"
  },
  "language_info": {
   "file_extension": ".cs",
   "mimetype": "text/x-csharp",
   "name": "C#",
   "pygments_lexer": "csharp",
   "version": "8.0"
  }
 },
 "nbformat": 4,
 "nbformat_minor": 5
}
