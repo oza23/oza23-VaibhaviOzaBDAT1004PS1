{
 "cells": [
  {
   "cell_type": "markdown",
   "id": "04dfb271",
   "metadata": {},
   "source": [
    "Q6)Turn a word into pig-Latin"
   ]
  },
  {
   "cell_type": "code",
   "execution_count": 44,
   "id": "c31a7d78",
   "metadata": {
    "scrolled": true
   },
   "outputs": [
    {
     "name": "stdout",
     "output_type": "stream",
     "text": [
      "appyhay\n",
      "enterway\n"
     ]
    }
   ],
   "source": [
    "def pig(var):\n",
    "    word = var.lower()  \n",
    "    consonant = \"ay\"\n",
    "    if word[0] in ['a','e','i','o','u']:\n",
    "        w2= word + 'way'\n",
    "        print(w2)\n",
    "    else:\n",
    "        v2 = var[0].lower()\n",
    "        v3 = word[1:] + v2 + consonant\n",
    "        print(v3)\n",
    "pig('happy')\n",
    "pig('Enter')"
   ]
  },
  {
   "cell_type": "markdown",
   "id": "a8aec572",
   "metadata": {},
   "source": [
    "Q7) How many patients there are of each bloodtype in the given file?"
   ]
  },
  {
   "cell_type": "code",
   "execution_count": 48,
   "id": "f400c622",
   "metadata": {
    "scrolled": true
   },
   "outputs": [
    {
     "name": "stdout",
     "output_type": "stream",
     "text": [
      "There are 15 patients of blood type A.\n",
      "There is one patient of blood type B.\n",
      "There are 13 patients of blood type AB.\n",
      "There are 15 patients of blood type O.\n",
      "There are no patients of blood type OO.\n"
     ]
    }
   ],
   "source": [
    "def bldcount(filename): \n",
    "    file = open(filename, 'r')    \n",
    "    record = file.read()  \n",
    "    file.close()\n",
    "    record = record.split()\n",
    "    bloodtype = ['A','B','AB','O','OO']   \n",
    "    for i in bloodtype:      \n",
    "        if record.count(i)==0:         \n",
    "            print('There are no patients of blood type',i+'.')      \n",
    "        elif record.count(i)==1:           \n",
    "            print('There is one patient of blood type',i+'.')      \n",
    "        else:          \n",
    "            print('There are',record.count(i),'patients of blood type', i+'.')\n",
    "bldcount('bloodtype1.txt')"
   ]
  },
  {
   "cell_type": "markdown",
   "id": "1f40e190",
   "metadata": {},
   "source": [
    "Q8)Write a function curconv() that takes input and then converts and returns the amount in US dollars.\n",
    "Referred link:\n",
    "https://stackoverflow.com/questions/25013792/how-to-read-a-dataset-from-a-txt-file-in-python"
   ]
  },
  {
   "cell_type": "code",
   "execution_count": 58,
   "id": "a580fd5f",
   "metadata": {},
   "outputs": [
    {
     "name": "stdout",
     "output_type": "stream",
     "text": [
      "122.96544\n",
      "1.241401\n"
     ]
    }
   ],
   "source": [
    "def curconv(cur,amt):\n",
    "    file = open('currencies.txt','r')\n",
    "    rows = []\n",
    "    for line in file:\n",
    "        row = line.split()\n",
    "        row = row[:2]\n",
    "        row[1] = float(row[1])\n",
    "        rows.append(row)\n",
    "    for row in rows:\n",
    "        if row[0]==cur:\n",
    "            print(amt*row[1])\n",
    "curconv('EUR', 100)\n",
    "curconv('JPY', 100)"
   ]
  },
  {
   "cell_type": "markdown",
   "id": "f6a7d1e1",
   "metadata": {},
   "source": [
    "Q9) Each of the following will cause an exception (an error). Identify what type of exception each will cause.\n",
    "\n",
    "Solution:\n",
    "a)Trying to add incompatible variables, as in adding 6 + ‘a’\n",
    "Type Error (unsupported operand types)\n",
    "\n",
    "b)Referring to the 12th item of a list that has only 10 items\n",
    "Index Error (list index out of range)\n",
    "\n",
    "c)Using a value that is out of range for a function’s input, such as calling math.sqrt(-1.0)\n",
    "Value Error (math domain error)\n",
    "\n",
    "d)Using an undeclared variable, such as print(x) when x has not been defined.\n",
    "Name Error\n",
    "\n",
    "e) Trying to open a file that does not exist, such as mistyping the file name or looking in the wrong directory.\n",
    "FileNotFoundError\n"
   ]
  },
  {
   "cell_type": "markdown",
   "id": "bfa39636",
   "metadata": {},
   "source": [
    "Q10"
   ]
  },
  {
   "cell_type": "code",
   "execution_count": 63,
   "id": "f485a33a",
   "metadata": {},
   "outputs": [
    {
     "name": "stdout",
     "output_type": "stream",
     "text": [
      "[1, 1, 1, 3, 5, 1, 1, 2, 1, 0, 1, 0, 1, 2, 4, 0, 1, 2, 0, 2, 1, 0, 1, 1, 0, 0]\n",
      "[1, 0, 0, 0, 1, 0, 0, 0, 0, 0, 0, 1, 0, 0, 0, 2, 0, 0, 0, 0, 0, 0, 0, 0, 0, 0]\n"
     ]
    }
   ],
   "source": [
    "def frequencies(message):\n",
    "    letters = 'abcdefghijklmnopqrstuvwxyz'\n",
    "    r = list(message)\n",
    "    mylist=[]\n",
    "    for l in letters:\n",
    "        lcount = r.count(l)\n",
    "        mylist.append(lcount)\n",
    "    print (mylist)\n",
    "frequencies('The quick red fox got bored and went home.')\n",
    "frequencies('apple')"
   ]
  }
 ],
 "metadata": {
  "kernelspec": {
   "display_name": "Python 3 (ipykernel)",
   "language": "python",
   "name": "python3"
  },
  "language_info": {
   "codemirror_mode": {
    "name": "ipython",
    "version": 3
   },
   "file_extension": ".py",
   "mimetype": "text/x-python",
   "name": "python",
   "nbconvert_exporter": "python",
   "pygments_lexer": "ipython3",
   "version": "3.9.7"
  }
 },
 "nbformat": 4,
 "nbformat_minor": 5
}
